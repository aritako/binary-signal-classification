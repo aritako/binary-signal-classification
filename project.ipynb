{
  "nbformat": 4,
  "nbformat_minor": 0,
  "metadata": {
    "colab": {
      "provenance": [],
      "toc_visible": true
    },
    "kernelspec": {
      "name": "python3",
      "display_name": "Python 3"
    },
    "language_info": {
      "name": "python"
    }
  },
  "cells": [
    {
      "cell_type": "markdown",
      "source": [
        "# **Part 1: Setup**\n",
        "\n",
        "Hello! Welcome to our Google Colab notebook for our machine learning project, ***Binary Classification of Water-immersed and Oil-immersed Electrodes Across Neural Network Models***. Let's get started! 😀🐄"
      ],
      "metadata": {
        "id": "uHILT6m8HtU7"
      }
    },
    {
      "cell_type": "markdown",
      "source": [
        "## Getting our Dataset\n",
        "\n",
        "This project's dataset is uploaded on one of the author's [Github Repository](https://github.com/aritako/binary-signal-classification/blob/main/dataset.csv). That way, we can run the `wget` shell command for remote access of our dataset. This eliminates the need for mounting the dataset to Google Drive, which may cause some complications when working in a collaborative environment."
      ],
      "metadata": {
        "id": "u0AlGcivIZn0"
      }
    },
    {
      "cell_type": "code",
      "execution_count": null,
      "metadata": {
        "id": "e_wUsQBTAQag"
      },
      "outputs": [],
      "source": [
        "!wget -q https://raw.githubusercontent.com/aritako/binary-signal-classification/main/dataset.csv"
      ]
    },
    {
      "cell_type": "markdown",
      "source": [
        "## Importing Initial Dependencies\n",
        "Then, we import our initial dependencies for this project—`pandas` and `numpy`. We'll be importing more dependencies along the way as we continue on with this project."
      ],
      "metadata": {
        "id": "zmnzmZ61Je6x"
      }
    },
    {
      "cell_type": "code",
      "source": [
        "import pandas as pd\n",
        "import numpy as np"
      ],
      "metadata": {
        "id": "_JYac8m9JrJ9"
      },
      "execution_count": null,
      "outputs": []
    },
    {
      "cell_type": "markdown",
      "source": [
        "## Quick Check\n",
        "\n",
        "Let's check if we have successfully retrieved our dataset."
      ],
      "metadata": {
        "id": "Nm94NK1RJwOj"
      }
    },
    {
      "cell_type": "code",
      "source": [
        "df = pd.read_csv('dataset.csv', delimiter = \";\")\n",
        "df.head()"
      ],
      "metadata": {
        "colab": {
          "base_uri": "https://localhost:8080/",
          "height": 206
        },
        "id": "4lDFGxuYJ2tr",
        "outputId": "479d03d0-1ff2-45f8-f894-6bb2446a849c"
      },
      "execution_count": null,
      "outputs": [
        {
          "output_type": "execute_result",
          "data": {
            "text/plain": [
              "    col1   col2   col3   col4   col5   col6   col7   col8   col9  col10  \\\n",
              "0  38.29  38.29  38.29  38.29  38.29  38.29  38.66  38.66  38.66  38.66   \n",
              "1  39.03  38.66  39.03  39.03  39.03  39.03  39.03  39.03  39.03  39.03   \n",
              "2  39.41  39.41  39.41  39.41  39.41  39.41  39.78  39.41  39.78  39.78   \n",
              "3  39.78  39.78  39.78  39.78  40.15  40.15  40.15  40.15  40.15  40.15   \n",
              "4  40.52  40.52  40.52  40.52  40.52  40.52  40.52  40.52  40.52  40.52   \n",
              "\n",
              "   target  \n",
              "0       1  \n",
              "1       1  \n",
              "2       1  \n",
              "3       1  \n",
              "4       1  "
            ],
            "text/html": [
              "\n",
              "  <div id=\"df-13cd0e91-dbcc-4c83-a47f-fce186feaca9\" class=\"colab-df-container\">\n",
              "    <div>\n",
              "<style scoped>\n",
              "    .dataframe tbody tr th:only-of-type {\n",
              "        vertical-align: middle;\n",
              "    }\n",
              "\n",
              "    .dataframe tbody tr th {\n",
              "        vertical-align: top;\n",
              "    }\n",
              "\n",
              "    .dataframe thead th {\n",
              "        text-align: right;\n",
              "    }\n",
              "</style>\n",
              "<table border=\"1\" class=\"dataframe\">\n",
              "  <thead>\n",
              "    <tr style=\"text-align: right;\">\n",
              "      <th></th>\n",
              "      <th>col1</th>\n",
              "      <th>col2</th>\n",
              "      <th>col3</th>\n",
              "      <th>col4</th>\n",
              "      <th>col5</th>\n",
              "      <th>col6</th>\n",
              "      <th>col7</th>\n",
              "      <th>col8</th>\n",
              "      <th>col9</th>\n",
              "      <th>col10</th>\n",
              "      <th>target</th>\n",
              "    </tr>\n",
              "  </thead>\n",
              "  <tbody>\n",
              "    <tr>\n",
              "      <th>0</th>\n",
              "      <td>38.29</td>\n",
              "      <td>38.29</td>\n",
              "      <td>38.29</td>\n",
              "      <td>38.29</td>\n",
              "      <td>38.29</td>\n",
              "      <td>38.29</td>\n",
              "      <td>38.66</td>\n",
              "      <td>38.66</td>\n",
              "      <td>38.66</td>\n",
              "      <td>38.66</td>\n",
              "      <td>1</td>\n",
              "    </tr>\n",
              "    <tr>\n",
              "      <th>1</th>\n",
              "      <td>39.03</td>\n",
              "      <td>38.66</td>\n",
              "      <td>39.03</td>\n",
              "      <td>39.03</td>\n",
              "      <td>39.03</td>\n",
              "      <td>39.03</td>\n",
              "      <td>39.03</td>\n",
              "      <td>39.03</td>\n",
              "      <td>39.03</td>\n",
              "      <td>39.03</td>\n",
              "      <td>1</td>\n",
              "    </tr>\n",
              "    <tr>\n",
              "      <th>2</th>\n",
              "      <td>39.41</td>\n",
              "      <td>39.41</td>\n",
              "      <td>39.41</td>\n",
              "      <td>39.41</td>\n",
              "      <td>39.41</td>\n",
              "      <td>39.41</td>\n",
              "      <td>39.78</td>\n",
              "      <td>39.41</td>\n",
              "      <td>39.78</td>\n",
              "      <td>39.78</td>\n",
              "      <td>1</td>\n",
              "    </tr>\n",
              "    <tr>\n",
              "      <th>3</th>\n",
              "      <td>39.78</td>\n",
              "      <td>39.78</td>\n",
              "      <td>39.78</td>\n",
              "      <td>39.78</td>\n",
              "      <td>40.15</td>\n",
              "      <td>40.15</td>\n",
              "      <td>40.15</td>\n",
              "      <td>40.15</td>\n",
              "      <td>40.15</td>\n",
              "      <td>40.15</td>\n",
              "      <td>1</td>\n",
              "    </tr>\n",
              "    <tr>\n",
              "      <th>4</th>\n",
              "      <td>40.52</td>\n",
              "      <td>40.52</td>\n",
              "      <td>40.52</td>\n",
              "      <td>40.52</td>\n",
              "      <td>40.52</td>\n",
              "      <td>40.52</td>\n",
              "      <td>40.52</td>\n",
              "      <td>40.52</td>\n",
              "      <td>40.52</td>\n",
              "      <td>40.52</td>\n",
              "      <td>1</td>\n",
              "    </tr>\n",
              "  </tbody>\n",
              "</table>\n",
              "</div>\n",
              "    <div class=\"colab-df-buttons\">\n",
              "\n",
              "  <div class=\"colab-df-container\">\n",
              "    <button class=\"colab-df-convert\" onclick=\"convertToInteractive('df-13cd0e91-dbcc-4c83-a47f-fce186feaca9')\"\n",
              "            title=\"Convert this dataframe to an interactive table.\"\n",
              "            style=\"display:none;\">\n",
              "\n",
              "  <svg xmlns=\"http://www.w3.org/2000/svg\" height=\"24px\" viewBox=\"0 -960 960 960\">\n",
              "    <path d=\"M120-120v-720h720v720H120Zm60-500h600v-160H180v160Zm220 220h160v-160H400v160Zm0 220h160v-160H400v160ZM180-400h160v-160H180v160Zm440 0h160v-160H620v160ZM180-180h160v-160H180v160Zm440 0h160v-160H620v160Z\"/>\n",
              "  </svg>\n",
              "    </button>\n",
              "\n",
              "  <style>\n",
              "    .colab-df-container {\n",
              "      display:flex;\n",
              "      gap: 12px;\n",
              "    }\n",
              "\n",
              "    .colab-df-convert {\n",
              "      background-color: #E8F0FE;\n",
              "      border: none;\n",
              "      border-radius: 50%;\n",
              "      cursor: pointer;\n",
              "      display: none;\n",
              "      fill: #1967D2;\n",
              "      height: 32px;\n",
              "      padding: 0 0 0 0;\n",
              "      width: 32px;\n",
              "    }\n",
              "\n",
              "    .colab-df-convert:hover {\n",
              "      background-color: #E2EBFA;\n",
              "      box-shadow: 0px 1px 2px rgba(60, 64, 67, 0.3), 0px 1px 3px 1px rgba(60, 64, 67, 0.15);\n",
              "      fill: #174EA6;\n",
              "    }\n",
              "\n",
              "    .colab-df-buttons div {\n",
              "      margin-bottom: 4px;\n",
              "    }\n",
              "\n",
              "    [theme=dark] .colab-df-convert {\n",
              "      background-color: #3B4455;\n",
              "      fill: #D2E3FC;\n",
              "    }\n",
              "\n",
              "    [theme=dark] .colab-df-convert:hover {\n",
              "      background-color: #434B5C;\n",
              "      box-shadow: 0px 1px 3px 1px rgba(0, 0, 0, 0.15);\n",
              "      filter: drop-shadow(0px 1px 2px rgba(0, 0, 0, 0.3));\n",
              "      fill: #FFFFFF;\n",
              "    }\n",
              "  </style>\n",
              "\n",
              "    <script>\n",
              "      const buttonEl =\n",
              "        document.querySelector('#df-13cd0e91-dbcc-4c83-a47f-fce186feaca9 button.colab-df-convert');\n",
              "      buttonEl.style.display =\n",
              "        google.colab.kernel.accessAllowed ? 'block' : 'none';\n",
              "\n",
              "      async function convertToInteractive(key) {\n",
              "        const element = document.querySelector('#df-13cd0e91-dbcc-4c83-a47f-fce186feaca9');\n",
              "        const dataTable =\n",
              "          await google.colab.kernel.invokeFunction('convertToInteractive',\n",
              "                                                    [key], {});\n",
              "        if (!dataTable) return;\n",
              "\n",
              "        const docLinkHtml = 'Like what you see? Visit the ' +\n",
              "          '<a target=\"_blank\" href=https://colab.research.google.com/notebooks/data_table.ipynb>data table notebook</a>'\n",
              "          + ' to learn more about interactive tables.';\n",
              "        element.innerHTML = '';\n",
              "        dataTable['output_type'] = 'display_data';\n",
              "        await google.colab.output.renderOutput(dataTable, element);\n",
              "        const docLink = document.createElement('div');\n",
              "        docLink.innerHTML = docLinkHtml;\n",
              "        element.appendChild(docLink);\n",
              "      }\n",
              "    </script>\n",
              "  </div>\n",
              "\n",
              "\n",
              "<div id=\"df-c6953923-6567-4ef2-8100-5983114720e7\">\n",
              "  <button class=\"colab-df-quickchart\" onclick=\"quickchart('df-c6953923-6567-4ef2-8100-5983114720e7')\"\n",
              "            title=\"Suggest charts\"\n",
              "            style=\"display:none;\">\n",
              "\n",
              "<svg xmlns=\"http://www.w3.org/2000/svg\" height=\"24px\"viewBox=\"0 0 24 24\"\n",
              "     width=\"24px\">\n",
              "    <g>\n",
              "        <path d=\"M19 3H5c-1.1 0-2 .9-2 2v14c0 1.1.9 2 2 2h14c1.1 0 2-.9 2-2V5c0-1.1-.9-2-2-2zM9 17H7v-7h2v7zm4 0h-2V7h2v10zm4 0h-2v-4h2v4z\"/>\n",
              "    </g>\n",
              "</svg>\n",
              "  </button>\n",
              "\n",
              "<style>\n",
              "  .colab-df-quickchart {\n",
              "      --bg-color: #E8F0FE;\n",
              "      --fill-color: #1967D2;\n",
              "      --hover-bg-color: #E2EBFA;\n",
              "      --hover-fill-color: #174EA6;\n",
              "      --disabled-fill-color: #AAA;\n",
              "      --disabled-bg-color: #DDD;\n",
              "  }\n",
              "\n",
              "  [theme=dark] .colab-df-quickchart {\n",
              "      --bg-color: #3B4455;\n",
              "      --fill-color: #D2E3FC;\n",
              "      --hover-bg-color: #434B5C;\n",
              "      --hover-fill-color: #FFFFFF;\n",
              "      --disabled-bg-color: #3B4455;\n",
              "      --disabled-fill-color: #666;\n",
              "  }\n",
              "\n",
              "  .colab-df-quickchart {\n",
              "    background-color: var(--bg-color);\n",
              "    border: none;\n",
              "    border-radius: 50%;\n",
              "    cursor: pointer;\n",
              "    display: none;\n",
              "    fill: var(--fill-color);\n",
              "    height: 32px;\n",
              "    padding: 0;\n",
              "    width: 32px;\n",
              "  }\n",
              "\n",
              "  .colab-df-quickchart:hover {\n",
              "    background-color: var(--hover-bg-color);\n",
              "    box-shadow: 0 1px 2px rgba(60, 64, 67, 0.3), 0 1px 3px 1px rgba(60, 64, 67, 0.15);\n",
              "    fill: var(--button-hover-fill-color);\n",
              "  }\n",
              "\n",
              "  .colab-df-quickchart-complete:disabled,\n",
              "  .colab-df-quickchart-complete:disabled:hover {\n",
              "    background-color: var(--disabled-bg-color);\n",
              "    fill: var(--disabled-fill-color);\n",
              "    box-shadow: none;\n",
              "  }\n",
              "\n",
              "  .colab-df-spinner {\n",
              "    border: 2px solid var(--fill-color);\n",
              "    border-color: transparent;\n",
              "    border-bottom-color: var(--fill-color);\n",
              "    animation:\n",
              "      spin 1s steps(1) infinite;\n",
              "  }\n",
              "\n",
              "  @keyframes spin {\n",
              "    0% {\n",
              "      border-color: transparent;\n",
              "      border-bottom-color: var(--fill-color);\n",
              "      border-left-color: var(--fill-color);\n",
              "    }\n",
              "    20% {\n",
              "      border-color: transparent;\n",
              "      border-left-color: var(--fill-color);\n",
              "      border-top-color: var(--fill-color);\n",
              "    }\n",
              "    30% {\n",
              "      border-color: transparent;\n",
              "      border-left-color: var(--fill-color);\n",
              "      border-top-color: var(--fill-color);\n",
              "      border-right-color: var(--fill-color);\n",
              "    }\n",
              "    40% {\n",
              "      border-color: transparent;\n",
              "      border-right-color: var(--fill-color);\n",
              "      border-top-color: var(--fill-color);\n",
              "    }\n",
              "    60% {\n",
              "      border-color: transparent;\n",
              "      border-right-color: var(--fill-color);\n",
              "    }\n",
              "    80% {\n",
              "      border-color: transparent;\n",
              "      border-right-color: var(--fill-color);\n",
              "      border-bottom-color: var(--fill-color);\n",
              "    }\n",
              "    90% {\n",
              "      border-color: transparent;\n",
              "      border-bottom-color: var(--fill-color);\n",
              "    }\n",
              "  }\n",
              "</style>\n",
              "\n",
              "  <script>\n",
              "    async function quickchart(key) {\n",
              "      const quickchartButtonEl =\n",
              "        document.querySelector('#' + key + ' button');\n",
              "      quickchartButtonEl.disabled = true;  // To prevent multiple clicks.\n",
              "      quickchartButtonEl.classList.add('colab-df-spinner');\n",
              "      try {\n",
              "        const charts = await google.colab.kernel.invokeFunction(\n",
              "            'suggestCharts', [key], {});\n",
              "      } catch (error) {\n",
              "        console.error('Error during call to suggestCharts:', error);\n",
              "      }\n",
              "      quickchartButtonEl.classList.remove('colab-df-spinner');\n",
              "      quickchartButtonEl.classList.add('colab-df-quickchart-complete');\n",
              "    }\n",
              "    (() => {\n",
              "      let quickchartButtonEl =\n",
              "        document.querySelector('#df-c6953923-6567-4ef2-8100-5983114720e7 button');\n",
              "      quickchartButtonEl.style.display =\n",
              "        google.colab.kernel.accessAllowed ? 'block' : 'none';\n",
              "    })();\n",
              "  </script>\n",
              "</div>\n",
              "    </div>\n",
              "  </div>\n"
            ],
            "application/vnd.google.colaboratory.intrinsic+json": {
              "type": "dataframe",
              "variable_name": "df",
              "summary": "{\n  \"name\": \"df\",\n  \"rows\": 4475,\n  \"fields\": [\n    {\n      \"column\": \"col1\",\n      \"properties\": {\n        \"dtype\": \"number\",\n        \"std\": 35.42903565916304,\n        \"min\": 1.13,\n        \"max\": 85.19,\n        \"num_unique_values\": 440,\n        \"samples\": [\n          37.25,\n          14.13,\n          26.84\n        ],\n        \"semantic_type\": \"\",\n        \"description\": \"\"\n      }\n    },\n    {\n      \"column\": \"col2\",\n      \"properties\": {\n        \"dtype\": \"number\",\n        \"std\": 35.42911812719322,\n        \"min\": 1.13,\n        \"max\": 85.19,\n        \"num_unique_values\": 446,\n        \"samples\": [\n          37.58,\n          14.04,\n          4.06\n        ],\n        \"semantic_type\": \"\",\n        \"description\": \"\"\n      }\n    },\n    {\n      \"column\": \"col3\",\n      \"properties\": {\n        \"dtype\": \"number\",\n        \"std\": 35.42764709264353,\n        \"min\": 1.13,\n        \"max\": 85.19,\n        \"num_unique_values\": 451,\n        \"samples\": [\n          54.7,\n          35.32,\n          12.46\n        ],\n        \"semantic_type\": \"\",\n        \"description\": \"\"\n      }\n    },\n    {\n      \"column\": \"col4\",\n      \"properties\": {\n        \"dtype\": \"number\",\n        \"std\": 35.42706583189848,\n        \"min\": 1.13,\n        \"max\": 85.19,\n        \"num_unique_values\": 446,\n        \"samples\": [\n          19.63,\n          12.63,\n          4.06\n        ],\n        \"semantic_type\": \"\",\n        \"description\": \"\"\n      }\n    },\n    {\n      \"column\": \"col5\",\n      \"properties\": {\n        \"dtype\": \"number\",\n        \"std\": 35.42275075224608,\n        \"min\": 1.13,\n        \"max\": 85.19,\n        \"num_unique_values\": 438,\n        \"samples\": [\n          13.33,\n          29.37,\n          17.95\n        ],\n        \"semantic_type\": \"\",\n        \"description\": \"\"\n      }\n    },\n    {\n      \"column\": \"col6\",\n      \"properties\": {\n        \"dtype\": \"number\",\n        \"std\": 35.42227869100005,\n        \"min\": 1.13,\n        \"max\": 85.19,\n        \"num_unique_values\": 440,\n        \"samples\": [\n          46.14,\n          19.33,\n          14.04\n        ],\n        \"semantic_type\": \"\",\n        \"description\": \"\"\n      }\n    },\n    {\n      \"column\": \"col7\",\n      \"properties\": {\n        \"dtype\": \"number\",\n        \"std\": 35.42208820497731,\n        \"min\": 1.13,\n        \"max\": 85.19,\n        \"num_unique_values\": 447,\n        \"samples\": [\n          41.78,\n          26.84,\n          43.91\n        ],\n        \"semantic_type\": \"\",\n        \"description\": \"\"\n      }\n    },\n    {\n      \"column\": \"col8\",\n      \"properties\": {\n        \"dtype\": \"number\",\n        \"std\": 35.42376600392369,\n        \"min\": 1.13,\n        \"max\": 85.19,\n        \"num_unique_values\": 436,\n        \"samples\": [\n          40.77,\n          14.87,\n          15.44\n        ],\n        \"semantic_type\": \"\",\n        \"description\": \"\"\n      }\n    },\n    {\n      \"column\": \"col9\",\n      \"properties\": {\n        \"dtype\": \"number\",\n        \"std\": 35.41888075576337,\n        \"min\": 1.13,\n        \"max\": 85.19,\n        \"num_unique_values\": 443,\n        \"samples\": [\n          19.47,\n          19.56,\n          15.24\n        ],\n        \"semantic_type\": \"\",\n        \"description\": \"\"\n      }\n    },\n    {\n      \"column\": \"col10\",\n      \"properties\": {\n        \"dtype\": \"number\",\n        \"std\": 35.420502274423335,\n        \"min\": 1.13,\n        \"max\": 85.19,\n        \"num_unique_values\": 452,\n        \"samples\": [\n          45.13,\n          34.57,\n          11.75\n        ],\n        \"semantic_type\": \"\",\n        \"description\": \"\"\n      }\n    },\n    {\n      \"column\": \"target\",\n      \"properties\": {\n        \"dtype\": \"number\",\n        \"std\": 0,\n        \"min\": -1,\n        \"max\": 1,\n        \"num_unique_values\": 2,\n        \"samples\": [\n          -1,\n          1\n        ],\n        \"semantic_type\": \"\",\n        \"description\": \"\"\n      }\n    }\n  ]\n}"
            }
          },
          "metadata": {},
          "execution_count": 4
        }
      ]
    },
    {
      "cell_type": "markdown",
      "source": [
        "# **Part 2: Exploratory Data Analysis**\n",
        "\n",
        "Before training our model, let us first investigate our dataset so that we can gain some insight with the data we'll be working with."
      ],
      "metadata": {
        "id": "6APf06Q-MAR2"
      }
    },
    {
      "cell_type": "markdown",
      "source": [
        "## Understanding the Structure of the Dataset"
      ],
      "metadata": {
        "id": "g1RA9QiLPelb"
      }
    },
    {
      "cell_type": "code",
      "source": [
        "df.info()"
      ],
      "metadata": {
        "colab": {
          "base_uri": "https://localhost:8080/"
        },
        "id": "3SW3am_bMQDA",
        "outputId": "5a3f5d1b-8837-4d09-aeaf-4aeca024dba9"
      },
      "execution_count": null,
      "outputs": [
        {
          "output_type": "stream",
          "name": "stdout",
          "text": [
            "<class 'pandas.core.frame.DataFrame'>\n",
            "RangeIndex: 4475 entries, 0 to 4474\n",
            "Data columns (total 11 columns):\n",
            " #   Column  Non-Null Count  Dtype  \n",
            "---  ------  --------------  -----  \n",
            " 0   col1    4475 non-null   float64\n",
            " 1   col2    4475 non-null   float64\n",
            " 2   col3    4475 non-null   float64\n",
            " 3   col4    4475 non-null   float64\n",
            " 4   col5    4475 non-null   float64\n",
            " 5   col6    4475 non-null   float64\n",
            " 6   col7    4475 non-null   float64\n",
            " 7   col8    4475 non-null   float64\n",
            " 8   col9    4475 non-null   float64\n",
            " 9   col10   4475 non-null   float64\n",
            " 10  target  4475 non-null   int64  \n",
            "dtypes: float64(10), int64(1)\n",
            "memory usage: 384.7 KB\n"
          ]
        }
      ]
    },
    {
      "cell_type": "code",
      "source": [
        "df.describe()"
      ],
      "metadata": {
        "colab": {
          "base_uri": "https://localhost:8080/",
          "height": 320
        },
        "id": "nmjutX7VNTPm",
        "outputId": "cb339a05-d345-4845-e0e2-6659581b8980"
      },
      "execution_count": null,
      "outputs": [
        {
          "output_type": "execute_result",
          "data": {
            "text/plain": [
              "              col1         col2         col3         col4         col5  \\\n",
              "count  4475.000000  4475.000000  4475.000000  4475.000000  4475.000000   \n",
              "mean     40.242163    40.241703    40.243537    40.246246    40.254878   \n",
              "std      35.429036    35.429118    35.427647    35.427066    35.422751   \n",
              "min       1.130000     1.130000     1.130000     1.130000     1.130000   \n",
              "25%       2.070000     2.070000     2.070000     2.070000     2.070000   \n",
              "50%      35.060000    35.060000    35.060000    35.060000    35.060000   \n",
              "75%      80.000000    80.000000    80.000000    80.000000    80.000000   \n",
              "max      85.190000    85.190000    85.190000    85.190000    85.190000   \n",
              "\n",
              "              col6         col7         col8         col9        col10  \\\n",
              "count  4475.000000  4475.000000  4475.000000  4475.000000  4475.000000   \n",
              "mean     40.258060    40.256577    40.258404    40.269526    40.268711   \n",
              "std      35.422279    35.422088    35.423766    35.418881    35.420502   \n",
              "min       1.130000     1.130000     1.130000     1.130000     1.130000   \n",
              "25%       2.070000     2.070000     2.070000     2.070000     2.070000   \n",
              "50%      35.060000    35.060000    35.070000    35.060000    35.230000   \n",
              "75%      80.000000    80.000000    80.000000    80.000000    80.000000   \n",
              "max      85.190000    85.190000    85.190000    85.190000    85.190000   \n",
              "\n",
              "            target  \n",
              "count  4475.000000  \n",
              "mean      0.148156  \n",
              "std       0.989074  \n",
              "min      -1.000000  \n",
              "25%      -1.000000  \n",
              "50%       1.000000  \n",
              "75%       1.000000  \n",
              "max       1.000000  "
            ],
            "text/html": [
              "\n",
              "  <div id=\"df-883400c1-5c3a-41c4-bb0d-3764d3b1bbaa\" class=\"colab-df-container\">\n",
              "    <div>\n",
              "<style scoped>\n",
              "    .dataframe tbody tr th:only-of-type {\n",
              "        vertical-align: middle;\n",
              "    }\n",
              "\n",
              "    .dataframe tbody tr th {\n",
              "        vertical-align: top;\n",
              "    }\n",
              "\n",
              "    .dataframe thead th {\n",
              "        text-align: right;\n",
              "    }\n",
              "</style>\n",
              "<table border=\"1\" class=\"dataframe\">\n",
              "  <thead>\n",
              "    <tr style=\"text-align: right;\">\n",
              "      <th></th>\n",
              "      <th>col1</th>\n",
              "      <th>col2</th>\n",
              "      <th>col3</th>\n",
              "      <th>col4</th>\n",
              "      <th>col5</th>\n",
              "      <th>col6</th>\n",
              "      <th>col7</th>\n",
              "      <th>col8</th>\n",
              "      <th>col9</th>\n",
              "      <th>col10</th>\n",
              "      <th>target</th>\n",
              "    </tr>\n",
              "  </thead>\n",
              "  <tbody>\n",
              "    <tr>\n",
              "      <th>count</th>\n",
              "      <td>4475.000000</td>\n",
              "      <td>4475.000000</td>\n",
              "      <td>4475.000000</td>\n",
              "      <td>4475.000000</td>\n",
              "      <td>4475.000000</td>\n",
              "      <td>4475.000000</td>\n",
              "      <td>4475.000000</td>\n",
              "      <td>4475.000000</td>\n",
              "      <td>4475.000000</td>\n",
              "      <td>4475.000000</td>\n",
              "      <td>4475.000000</td>\n",
              "    </tr>\n",
              "    <tr>\n",
              "      <th>mean</th>\n",
              "      <td>40.242163</td>\n",
              "      <td>40.241703</td>\n",
              "      <td>40.243537</td>\n",
              "      <td>40.246246</td>\n",
              "      <td>40.254878</td>\n",
              "      <td>40.258060</td>\n",
              "      <td>40.256577</td>\n",
              "      <td>40.258404</td>\n",
              "      <td>40.269526</td>\n",
              "      <td>40.268711</td>\n",
              "      <td>0.148156</td>\n",
              "    </tr>\n",
              "    <tr>\n",
              "      <th>std</th>\n",
              "      <td>35.429036</td>\n",
              "      <td>35.429118</td>\n",
              "      <td>35.427647</td>\n",
              "      <td>35.427066</td>\n",
              "      <td>35.422751</td>\n",
              "      <td>35.422279</td>\n",
              "      <td>35.422088</td>\n",
              "      <td>35.423766</td>\n",
              "      <td>35.418881</td>\n",
              "      <td>35.420502</td>\n",
              "      <td>0.989074</td>\n",
              "    </tr>\n",
              "    <tr>\n",
              "      <th>min</th>\n",
              "      <td>1.130000</td>\n",
              "      <td>1.130000</td>\n",
              "      <td>1.130000</td>\n",
              "      <td>1.130000</td>\n",
              "      <td>1.130000</td>\n",
              "      <td>1.130000</td>\n",
              "      <td>1.130000</td>\n",
              "      <td>1.130000</td>\n",
              "      <td>1.130000</td>\n",
              "      <td>1.130000</td>\n",
              "      <td>-1.000000</td>\n",
              "    </tr>\n",
              "    <tr>\n",
              "      <th>25%</th>\n",
              "      <td>2.070000</td>\n",
              "      <td>2.070000</td>\n",
              "      <td>2.070000</td>\n",
              "      <td>2.070000</td>\n",
              "      <td>2.070000</td>\n",
              "      <td>2.070000</td>\n",
              "      <td>2.070000</td>\n",
              "      <td>2.070000</td>\n",
              "      <td>2.070000</td>\n",
              "      <td>2.070000</td>\n",
              "      <td>-1.000000</td>\n",
              "    </tr>\n",
              "    <tr>\n",
              "      <th>50%</th>\n",
              "      <td>35.060000</td>\n",
              "      <td>35.060000</td>\n",
              "      <td>35.060000</td>\n",
              "      <td>35.060000</td>\n",
              "      <td>35.060000</td>\n",
              "      <td>35.060000</td>\n",
              "      <td>35.060000</td>\n",
              "      <td>35.070000</td>\n",
              "      <td>35.060000</td>\n",
              "      <td>35.230000</td>\n",
              "      <td>1.000000</td>\n",
              "    </tr>\n",
              "    <tr>\n",
              "      <th>75%</th>\n",
              "      <td>80.000000</td>\n",
              "      <td>80.000000</td>\n",
              "      <td>80.000000</td>\n",
              "      <td>80.000000</td>\n",
              "      <td>80.000000</td>\n",
              "      <td>80.000000</td>\n",
              "      <td>80.000000</td>\n",
              "      <td>80.000000</td>\n",
              "      <td>80.000000</td>\n",
              "      <td>80.000000</td>\n",
              "      <td>1.000000</td>\n",
              "    </tr>\n",
              "    <tr>\n",
              "      <th>max</th>\n",
              "      <td>85.190000</td>\n",
              "      <td>85.190000</td>\n",
              "      <td>85.190000</td>\n",
              "      <td>85.190000</td>\n",
              "      <td>85.190000</td>\n",
              "      <td>85.190000</td>\n",
              "      <td>85.190000</td>\n",
              "      <td>85.190000</td>\n",
              "      <td>85.190000</td>\n",
              "      <td>85.190000</td>\n",
              "      <td>1.000000</td>\n",
              "    </tr>\n",
              "  </tbody>\n",
              "</table>\n",
              "</div>\n",
              "    <div class=\"colab-df-buttons\">\n",
              "\n",
              "  <div class=\"colab-df-container\">\n",
              "    <button class=\"colab-df-convert\" onclick=\"convertToInteractive('df-883400c1-5c3a-41c4-bb0d-3764d3b1bbaa')\"\n",
              "            title=\"Convert this dataframe to an interactive table.\"\n",
              "            style=\"display:none;\">\n",
              "\n",
              "  <svg xmlns=\"http://www.w3.org/2000/svg\" height=\"24px\" viewBox=\"0 -960 960 960\">\n",
              "    <path d=\"M120-120v-720h720v720H120Zm60-500h600v-160H180v160Zm220 220h160v-160H400v160Zm0 220h160v-160H400v160ZM180-400h160v-160H180v160Zm440 0h160v-160H620v160ZM180-180h160v-160H180v160Zm440 0h160v-160H620v160Z\"/>\n",
              "  </svg>\n",
              "    </button>\n",
              "\n",
              "  <style>\n",
              "    .colab-df-container {\n",
              "      display:flex;\n",
              "      gap: 12px;\n",
              "    }\n",
              "\n",
              "    .colab-df-convert {\n",
              "      background-color: #E8F0FE;\n",
              "      border: none;\n",
              "      border-radius: 50%;\n",
              "      cursor: pointer;\n",
              "      display: none;\n",
              "      fill: #1967D2;\n",
              "      height: 32px;\n",
              "      padding: 0 0 0 0;\n",
              "      width: 32px;\n",
              "    }\n",
              "\n",
              "    .colab-df-convert:hover {\n",
              "      background-color: #E2EBFA;\n",
              "      box-shadow: 0px 1px 2px rgba(60, 64, 67, 0.3), 0px 1px 3px 1px rgba(60, 64, 67, 0.15);\n",
              "      fill: #174EA6;\n",
              "    }\n",
              "\n",
              "    .colab-df-buttons div {\n",
              "      margin-bottom: 4px;\n",
              "    }\n",
              "\n",
              "    [theme=dark] .colab-df-convert {\n",
              "      background-color: #3B4455;\n",
              "      fill: #D2E3FC;\n",
              "    }\n",
              "\n",
              "    [theme=dark] .colab-df-convert:hover {\n",
              "      background-color: #434B5C;\n",
              "      box-shadow: 0px 1px 3px 1px rgba(0, 0, 0, 0.15);\n",
              "      filter: drop-shadow(0px 1px 2px rgba(0, 0, 0, 0.3));\n",
              "      fill: #FFFFFF;\n",
              "    }\n",
              "  </style>\n",
              "\n",
              "    <script>\n",
              "      const buttonEl =\n",
              "        document.querySelector('#df-883400c1-5c3a-41c4-bb0d-3764d3b1bbaa button.colab-df-convert');\n",
              "      buttonEl.style.display =\n",
              "        google.colab.kernel.accessAllowed ? 'block' : 'none';\n",
              "\n",
              "      async function convertToInteractive(key) {\n",
              "        const element = document.querySelector('#df-883400c1-5c3a-41c4-bb0d-3764d3b1bbaa');\n",
              "        const dataTable =\n",
              "          await google.colab.kernel.invokeFunction('convertToInteractive',\n",
              "                                                    [key], {});\n",
              "        if (!dataTable) return;\n",
              "\n",
              "        const docLinkHtml = 'Like what you see? Visit the ' +\n",
              "          '<a target=\"_blank\" href=https://colab.research.google.com/notebooks/data_table.ipynb>data table notebook</a>'\n",
              "          + ' to learn more about interactive tables.';\n",
              "        element.innerHTML = '';\n",
              "        dataTable['output_type'] = 'display_data';\n",
              "        await google.colab.output.renderOutput(dataTable, element);\n",
              "        const docLink = document.createElement('div');\n",
              "        docLink.innerHTML = docLinkHtml;\n",
              "        element.appendChild(docLink);\n",
              "      }\n",
              "    </script>\n",
              "  </div>\n",
              "\n",
              "\n",
              "<div id=\"df-06573183-faaf-457c-876e-dd21b82d5362\">\n",
              "  <button class=\"colab-df-quickchart\" onclick=\"quickchart('df-06573183-faaf-457c-876e-dd21b82d5362')\"\n",
              "            title=\"Suggest charts\"\n",
              "            style=\"display:none;\">\n",
              "\n",
              "<svg xmlns=\"http://www.w3.org/2000/svg\" height=\"24px\"viewBox=\"0 0 24 24\"\n",
              "     width=\"24px\">\n",
              "    <g>\n",
              "        <path d=\"M19 3H5c-1.1 0-2 .9-2 2v14c0 1.1.9 2 2 2h14c1.1 0 2-.9 2-2V5c0-1.1-.9-2-2-2zM9 17H7v-7h2v7zm4 0h-2V7h2v10zm4 0h-2v-4h2v4z\"/>\n",
              "    </g>\n",
              "</svg>\n",
              "  </button>\n",
              "\n",
              "<style>\n",
              "  .colab-df-quickchart {\n",
              "      --bg-color: #E8F0FE;\n",
              "      --fill-color: #1967D2;\n",
              "      --hover-bg-color: #E2EBFA;\n",
              "      --hover-fill-color: #174EA6;\n",
              "      --disabled-fill-color: #AAA;\n",
              "      --disabled-bg-color: #DDD;\n",
              "  }\n",
              "\n",
              "  [theme=dark] .colab-df-quickchart {\n",
              "      --bg-color: #3B4455;\n",
              "      --fill-color: #D2E3FC;\n",
              "      --hover-bg-color: #434B5C;\n",
              "      --hover-fill-color: #FFFFFF;\n",
              "      --disabled-bg-color: #3B4455;\n",
              "      --disabled-fill-color: #666;\n",
              "  }\n",
              "\n",
              "  .colab-df-quickchart {\n",
              "    background-color: var(--bg-color);\n",
              "    border: none;\n",
              "    border-radius: 50%;\n",
              "    cursor: pointer;\n",
              "    display: none;\n",
              "    fill: var(--fill-color);\n",
              "    height: 32px;\n",
              "    padding: 0;\n",
              "    width: 32px;\n",
              "  }\n",
              "\n",
              "  .colab-df-quickchart:hover {\n",
              "    background-color: var(--hover-bg-color);\n",
              "    box-shadow: 0 1px 2px rgba(60, 64, 67, 0.3), 0 1px 3px 1px rgba(60, 64, 67, 0.15);\n",
              "    fill: var(--button-hover-fill-color);\n",
              "  }\n",
              "\n",
              "  .colab-df-quickchart-complete:disabled,\n",
              "  .colab-df-quickchart-complete:disabled:hover {\n",
              "    background-color: var(--disabled-bg-color);\n",
              "    fill: var(--disabled-fill-color);\n",
              "    box-shadow: none;\n",
              "  }\n",
              "\n",
              "  .colab-df-spinner {\n",
              "    border: 2px solid var(--fill-color);\n",
              "    border-color: transparent;\n",
              "    border-bottom-color: var(--fill-color);\n",
              "    animation:\n",
              "      spin 1s steps(1) infinite;\n",
              "  }\n",
              "\n",
              "  @keyframes spin {\n",
              "    0% {\n",
              "      border-color: transparent;\n",
              "      border-bottom-color: var(--fill-color);\n",
              "      border-left-color: var(--fill-color);\n",
              "    }\n",
              "    20% {\n",
              "      border-color: transparent;\n",
              "      border-left-color: var(--fill-color);\n",
              "      border-top-color: var(--fill-color);\n",
              "    }\n",
              "    30% {\n",
              "      border-color: transparent;\n",
              "      border-left-color: var(--fill-color);\n",
              "      border-top-color: var(--fill-color);\n",
              "      border-right-color: var(--fill-color);\n",
              "    }\n",
              "    40% {\n",
              "      border-color: transparent;\n",
              "      border-right-color: var(--fill-color);\n",
              "      border-top-color: var(--fill-color);\n",
              "    }\n",
              "    60% {\n",
              "      border-color: transparent;\n",
              "      border-right-color: var(--fill-color);\n",
              "    }\n",
              "    80% {\n",
              "      border-color: transparent;\n",
              "      border-right-color: var(--fill-color);\n",
              "      border-bottom-color: var(--fill-color);\n",
              "    }\n",
              "    90% {\n",
              "      border-color: transparent;\n",
              "      border-bottom-color: var(--fill-color);\n",
              "    }\n",
              "  }\n",
              "</style>\n",
              "\n",
              "  <script>\n",
              "    async function quickchart(key) {\n",
              "      const quickchartButtonEl =\n",
              "        document.querySelector('#' + key + ' button');\n",
              "      quickchartButtonEl.disabled = true;  // To prevent multiple clicks.\n",
              "      quickchartButtonEl.classList.add('colab-df-spinner');\n",
              "      try {\n",
              "        const charts = await google.colab.kernel.invokeFunction(\n",
              "            'suggestCharts', [key], {});\n",
              "      } catch (error) {\n",
              "        console.error('Error during call to suggestCharts:', error);\n",
              "      }\n",
              "      quickchartButtonEl.classList.remove('colab-df-spinner');\n",
              "      quickchartButtonEl.classList.add('colab-df-quickchart-complete');\n",
              "    }\n",
              "    (() => {\n",
              "      let quickchartButtonEl =\n",
              "        document.querySelector('#df-06573183-faaf-457c-876e-dd21b82d5362 button');\n",
              "      quickchartButtonEl.style.display =\n",
              "        google.colab.kernel.accessAllowed ? 'block' : 'none';\n",
              "    })();\n",
              "  </script>\n",
              "</div>\n",
              "    </div>\n",
              "  </div>\n"
            ],
            "application/vnd.google.colaboratory.intrinsic+json": {
              "type": "dataframe",
              "summary": "{\n  \"name\": \"df\",\n  \"rows\": 8,\n  \"fields\": [\n    {\n      \"column\": \"col1\",\n      \"properties\": {\n        \"dtype\": \"number\",\n        \"std\": 1568.355972856642,\n        \"min\": 1.13,\n        \"max\": 4475.0,\n        \"num_unique_values\": 8,\n        \"samples\": [\n          40.24216312849162,\n          35.06,\n          4475.0\n        ],\n        \"semantic_type\": \"\",\n        \"description\": \"\"\n      }\n    },\n    {\n      \"column\": \"col2\",\n      \"properties\": {\n        \"dtype\": \"number\",\n        \"std\": 1568.3559918893352,\n        \"min\": 1.13,\n        \"max\": 4475.0,\n        \"num_unique_values\": 8,\n        \"samples\": [\n          40.241702793296085,\n          35.06,\n          4475.0\n        ],\n        \"semantic_type\": \"\",\n        \"description\": \"\"\n      }\n    },\n    {\n      \"column\": \"col3\",\n      \"properties\": {\n        \"dtype\": \"number\",\n        \"std\": 1568.3559741854501,\n        \"min\": 1.13,\n        \"max\": 4475.0,\n        \"num_unique_values\": 8,\n        \"samples\": [\n          40.2435374301676,\n          35.06,\n          4475.0\n        ],\n        \"semantic_type\": \"\",\n        \"description\": \"\"\n      }\n    },\n    {\n      \"column\": \"col4\",\n      \"properties\": {\n        \"dtype\": \"number\",\n        \"std\": 1568.3558670972277,\n        \"min\": 1.13,\n        \"max\": 4475.0,\n        \"num_unique_values\": 8,\n        \"samples\": [\n          40.24624581005587,\n          35.06,\n          4475.0\n        ],\n        \"semantic_type\": \"\",\n        \"description\": \"\"\n      }\n    },\n    {\n      \"column\": \"col5\",\n      \"properties\": {\n        \"dtype\": \"number\",\n        \"std\": 1568.3556511259194,\n        \"min\": 1.13,\n        \"max\": 4475.0,\n        \"num_unique_values\": 8,\n        \"samples\": [\n          40.25487821229051,\n          35.06,\n          4475.0\n        ],\n        \"semantic_type\": \"\",\n        \"description\": \"\"\n      }\n    },\n    {\n      \"column\": \"col6\",\n      \"properties\": {\n        \"dtype\": \"number\",\n        \"std\": 1568.3555145753987,\n        \"min\": 1.13,\n        \"max\": 4475.0,\n        \"num_unique_values\": 8,\n        \"samples\": [\n          40.25806033519553,\n          35.06,\n          4475.0\n        ],\n        \"semantic_type\": \"\",\n        \"description\": \"\"\n      }\n    },\n    {\n      \"column\": \"col7\",\n      \"properties\": {\n        \"dtype\": \"number\",\n        \"std\": 1568.355599148943,\n        \"min\": 1.13,\n        \"max\": 4475.0,\n        \"num_unique_values\": 8,\n        \"samples\": [\n          40.25657653631285,\n          35.06,\n          4475.0\n        ],\n        \"semantic_type\": \"\",\n        \"description\": \"\"\n      }\n    },\n    {\n      \"column\": \"col8\",\n      \"properties\": {\n        \"dtype\": \"number\",\n        \"std\": 1568.3549121381188,\n        \"min\": 1.13,\n        \"max\": 4475.0,\n        \"num_unique_values\": 8,\n        \"samples\": [\n          40.25840446927374,\n          35.07,\n          4475.0\n        ],\n        \"semantic_type\": \"\",\n        \"description\": \"\"\n      }\n    },\n    {\n      \"column\": \"col9\",\n      \"properties\": {\n        \"dtype\": \"number\",\n        \"std\": 1568.3551089428395,\n        \"min\": 1.13,\n        \"max\": 4475.0,\n        \"num_unique_values\": 8,\n        \"samples\": [\n          40.26952625698324,\n          35.06,\n          4475.0\n        ],\n        \"semantic_type\": \"\",\n        \"description\": \"\"\n      }\n    },\n    {\n      \"column\": \"col10\",\n      \"properties\": {\n        \"dtype\": \"number\",\n        \"std\": 1568.3464094555968,\n        \"min\": 1.13,\n        \"max\": 4475.0,\n        \"num_unique_values\": 8,\n        \"samples\": [\n          40.26871061452513,\n          35.23,\n          4475.0\n        ],\n        \"semantic_type\": \"\",\n        \"description\": \"\"\n      }\n    },\n    {\n      \"column\": \"target\",\n      \"properties\": {\n        \"dtype\": \"number\",\n        \"std\": 1582.043717889728,\n        \"min\": -1.0,\n        \"max\": 4475.0,\n        \"num_unique_values\": 5,\n        \"samples\": [\n          0.14815642458100559,\n          1.0,\n          0.9890744569002543\n        ],\n        \"semantic_type\": \"\",\n        \"description\": \"\"\n      }\n    }\n  ]\n}"
            }
          },
          "metadata": {},
          "execution_count": 6
        }
      ]
    },
    {
      "cell_type": "markdown",
      "source": [
        "So far, we can observe that we have **4475 rows and 11 columns.** The range of values we'll be working with per column is within the range of [1.13, 85.19], with the mean being around 40.\n",
        "\n",
        "Let's try and find out how many electrode signals are made in water (represented by 1) or oil (represented by -1).\n",
        "\n",
        "\n",
        "\n"
      ],
      "metadata": {
        "id": "RFZd_avhN1UB"
      }
    },
    {
      "cell_type": "code",
      "source": [
        "df['target'].value_counts()"
      ],
      "metadata": {
        "colab": {
          "base_uri": "https://localhost:8080/"
        },
        "id": "99dQcgRbSy5I",
        "outputId": "0159c1be-155b-42a7-807f-c23668998fbf"
      },
      "execution_count": null,
      "outputs": [
        {
          "output_type": "execute_result",
          "data": {
            "text/plain": [
              "target\n",
              " 1    2569\n",
              "-1    1906\n",
              "Name: count, dtype: int64"
            ]
          },
          "metadata": {},
          "execution_count": 7
        }
      ]
    },
    {
      "cell_type": "markdown",
      "source": [
        "We have **2569 signals** and **1906 signals** for water-immersed and oil-immersed electrodes, respectively.\n",
        "\n",
        "Next, we check for any null or missing values."
      ],
      "metadata": {
        "id": "7yKktOYDTXxk"
      }
    },
    {
      "cell_type": "code",
      "source": [
        "df.isnull().sum()"
      ],
      "metadata": {
        "colab": {
          "base_uri": "https://localhost:8080/"
        },
        "id": "lDpPKuwGUiK1",
        "outputId": "94dfa4b3-2fd6-42a1-d762-a0e37bac25b5"
      },
      "execution_count": null,
      "outputs": [
        {
          "output_type": "execute_result",
          "data": {
            "text/plain": [
              "col1      0\n",
              "col2      0\n",
              "col3      0\n",
              "col4      0\n",
              "col5      0\n",
              "col6      0\n",
              "col7      0\n",
              "col8      0\n",
              "col9      0\n",
              "col10     0\n",
              "target    0\n",
              "dtype: int64"
            ]
          },
          "metadata": {},
          "execution_count": 8
        }
      ]
    },
    {
      "cell_type": "markdown",
      "source": [
        "Nice! We do not need to perform any imputations since there are no null values."
      ],
      "metadata": {
        "id": "Y4YJZ3pqUlIQ"
      }
    },
    {
      "cell_type": "markdown",
      "source": [
        "## Visualizing the Dataset\n",
        "To gain further insight about our data, we can use `seaborn` and `matplotlib` to visualize the dataset through graphs."
      ],
      "metadata": {
        "id": "Wqcc9nqtPpAh"
      }
    },
    {
      "cell_type": "code",
      "source": [
        "import seaborn as sns\n",
        "import matplotlib.pyplot as plt"
      ],
      "metadata": {
        "id": "QrUjzugAPs1g"
      },
      "execution_count": null,
      "outputs": []
    },
    {
      "cell_type": "markdown",
      "source": [
        "Let's try and use **Histograms** to plot each feature. The X-axis corresponds to the feature values of the `nth`-column, while the Y-axis corresponds to the count occurrence.\n"
      ],
      "metadata": {
        "id": "L4c5QgOLQnqn"
      }
    },
    {
      "cell_type": "code",
      "source": [
        "df.iloc[:, :-1].hist(bins=15, figsize=(15, 10))\n",
        "plt.suptitle('Histograms of all features')\n",
        "for ax in plt.gcf().axes:\n",
        "    ax.set_ylabel('Frequency')\n",
        "plt.show()"
      ],
      "metadata": {
        "colab": {
          "base_uri": "https://localhost:8080/",
          "height": 644
        },
        "id": "LuhqatdrQivs",
        "outputId": "72efa2e7-c6b7-4d67-8a7d-83cd27b80e55"
      },
      "execution_count": null,
      "outputs": [
        {
          "output_type": "display_data",
          "data": {
            "text/plain": [
              "<Figure size 1500x1000 with 12 Axes>"
            ],
            "image/png": "[encoded data removed]"
          },
          "metadata": {}
        }
      ]
    },
    {
      "cell_type": "markdown",
      "source": [
        "We already checked the count values of our target column. Let's try visualizing the distribution of our classes."
      ],
      "metadata": {
        "id": "DcPVhI8wVJ7U"
      }
    },
    {
      "cell_type": "code",
      "source": [
        "df['target'].value_counts()\n",
        "sns.countplot(x='target', data=df)\n",
        "plt.title('Class distribution')\n",
        "plt.show()"
      ],
      "metadata": {
        "colab": {
          "base_uri": "https://localhost:8080/",
          "height": 472
        },
        "id": "dT4e0bmNVVDG",
        "outputId": "ed4ea69c-3e9a-41ef-c8a7-97e4b77c286b"
      },
      "execution_count": null,
      "outputs": [
        {
          "output_type": "display_data",
          "data": {
            "text/plain": [
              "<Figure size 640x480 with 1 Axes>"
            ],
            "image/png": "[encoded data removed]"
          },
          "metadata": {}
        }
      ]
    },
    {
      "cell_type": "markdown",
      "source": [
        "Finally, let's use a **Correlation Matrix** to understand the relationships between our variables."
      ],
      "metadata": {
        "id": "mKKaBwM9XZzK"
      }
    },
    {
      "cell_type": "code",
      "source": [
        "plt.figure(figsize=(12, 8))\n",
        "correlation_matrix = df.corr()\n",
        "sns.heatmap(correlation_matrix, annot=True, cmap='coolwarm')\n",
        "plt.title('Correlation Matrix')\n",
        "plt.show()"
      ],
      "metadata": {
        "colab": {
          "base_uri": "https://localhost:8080/",
          "height": 662
        },
        "id": "_Q0cI2BzV9MI",
        "outputId": "38a34e23-f527-4683-d3aa-76ec41a84ec3"
      },
      "execution_count": null,
      "outputs": [
        {
          "output_type": "display_data",
          "data": {
            "text/plain": [
              "<Figure size 1200x800 with 2 Axes>"
            ],
            "image/png": "[encoded data removed]"
          },
          "metadata": {}
        }
      ]
    },
    {
      "cell_type": "markdown",
      "source": [
        "We have a very interesting output! This correlation matrix indicates a perfect correlation (correlation coefficient of 1) among all feature columns (col1 to col10), suggesting that they have identical or highly similar values. The target column also shows a high correlation (0.87) with the feature columns, indicating a strong relationship between the features and the target variable.\n",
        "\n",
        "\n",
        "---\n",
        "\n",
        "\n",
        "From our exploratory data analysis, we can conclude that our data is already in good shape, and we don't need any further preprocessing of data! Let's proceed with setting up our datasets for training our models.\n"
      ],
      "metadata": {
        "id": "8GGzDDn6XWvr"
      }
    },
    {
      "cell_type": "markdown",
      "source": [
        "# **Part 3: Preparing our Train and Test Dataset**\n",
        "\n",
        "Let's begin by importing the necessary libraries for splitting our data—`sklearn`."
      ],
      "metadata": {
        "id": "w3nn2VZ-oYd2"
      }
    },
    {
      "cell_type": "code",
      "source": [
        "from sklearn.model_selection import train_test_split\n",
        "from sklearn.preprocessing import StandardScaler"
      ],
      "metadata": {
        "id": "tmGa1u9UpVMS"
      },
      "execution_count": null,
      "outputs": []
    },
    {
      "cell_type": "markdown",
      "source": [
        "Let's separate our dataset between the features and the target, i.e. `X` and `y`."
      ],
      "metadata": {
        "id": "d43bVRf5tWC4"
      }
    },
    {
      "cell_type": "code",
      "source": [
        "X = df.drop(\"target\", axis = 1)\n",
        "y = df[\"target\"]"
      ],
      "metadata": {
        "id": "vg-dEiuNtEOl"
      },
      "execution_count": null,
      "outputs": []
    },
    {
      "cell_type": "markdown",
      "source": [
        "With that, we can conveniently split our dataset usign the the `sklearn` method, `train_test_split`. We allocate 80% of our data for training, and 20% for testing."
      ],
      "metadata": {
        "id": "pJ4t31skrbtz"
      }
    },
    {
      "cell_type": "code",
      "source": [
        "X_train, X_test, y_train, y_test = train_test_split(X, y, test_size=0.2, train_size=0.8, random_state=42)\n",
        "\n",
        "print(\"Train Set Count:\", len(X_train))\n",
        "print(\"Test Set Count:\", len(X_test))"
      ],
      "metadata": {
        "colab": {
          "base_uri": "https://localhost:8080/"
        },
        "id": "H5IU-o85upQ2",
        "outputId": "4a4b2a54-f2f3-4feb-c7ac-e2d36eeca430"
      },
      "execution_count": null,
      "outputs": [
        {
          "output_type": "stream",
          "name": "stdout",
          "text": [
            "Train Set Count: 3580\n",
            "Test Set Count: 895\n"
          ]
        }
      ]
    }
  ]
}